{
 "cells": [
  {
   "cell_type": "markdown",
   "metadata": {},
   "source": [
    "### CartPole Environment"
   ]
  },
  {
   "cell_type": "code",
   "execution_count": null,
   "metadata": {},
   "outputs": [],
   "source": [
    "from dqn_ner_cart import ner_cart\n",
    "from dqn_cer_cart import cer_cart\n",
    "from dqn_her_cart import her_cart\n",
    "from dqn_per_cart import per_cart\n",
    "import numpy as np"
   ]
  },
  {
   "cell_type": "markdown",
   "metadata": {},
   "source": [
    "#### Hyper-parameters"
   ]
  },
  {
   "cell_type": "code",
   "execution_count": null,
   "metadata": {},
   "outputs": [],
   "source": [
    "runs = 5\n",
    "num_episodes = 3000\n",
    "# Hyperparameters of the Experience Replay\n",
    "batch_size = 32\n",
    "buf_size = 50_000"
   ]
  },
  {
   "cell_type": "markdown",
   "metadata": {},
   "source": [
    "#### Normal Experince Replay"
   ]
  },
  {
   "cell_type": "code",
   "execution_count": null,
   "metadata": {},
   "outputs": [],
   "source": [
    "# NER\n",
    "scores_ner = []\n",
    "for run in range(runs):\n",
    "    _, score_rate_ner = (\n",
    "        ner_cart(\n",
    "            n_episodes_=num_episodes\n",
    "            ,batch_size_=batch_size\n",
    "            ,buf_size_=buf_size\n",
    "            )\n",
    "        )\n",
    "    scores_ner.append(score_rate_ner)"
   ]
  },
  {
   "cell_type": "markdown",
   "metadata": {},
   "source": [
    "#### Combined Experince Replay"
   ]
  },
  {
   "cell_type": "code",
   "execution_count": null,
   "metadata": {},
   "outputs": [],
   "source": [
    "# CER\n",
    "scores_cer = []\n",
    "for run in range(runs):\n",
    "    _, score_rate_cer = (\n",
    "        cer_cart(\n",
    "            n_episodes_=num_episodes\n",
    "            ,batch_size_=batch_size\n",
    "            ,buf_size_=buf_size\n",
    "            )\n",
    "        )\n",
    "    scores_cer.append(score_rate_cer)"
   ]
  },
  {
   "cell_type": "markdown",
   "metadata": {},
   "source": [
    "#### Hindsight Experince Replay"
   ]
  },
  {
   "cell_type": "code",
   "execution_count": null,
   "metadata": {},
   "outputs": [],
   "source": [
    "# HER\n",
    "scores_her = []\n",
    "for run in range(runs):\n",
    "    _, score_rate_her = (\n",
    "        her_cart(\n",
    "            n_episodes_=num_episodes\n",
    "            ,batch_size_=batch_size\n",
    "            ,buf_size_=buf_size\n",
    "            )\n",
    "        )\n",
    "    scores_her.append(score_rate_her)"
   ]
  },
  {
   "cell_type": "markdown",
   "metadata": {},
   "source": [
    "#### Prioritized Experince Replay"
   ]
  },
  {
   "cell_type": "code",
   "execution_count": null,
   "metadata": {},
   "outputs": [],
   "source": [
    "# PER\n",
    "scores_per = []\n",
    "for run in range(runs):\n",
    "    _, score_rate_per = (\n",
    "        per_cart(\n",
    "            n_episodes_=num_episodes\n",
    "            ,batch_size_=batch_size\n",
    "            ,buf_size_=buf_size\n",
    "            )\n",
    "        )\n",
    "    scores_per.append(score_rate_per)"
   ]
  }
 ],
 "metadata": {
  "kernelspec": {
   "display_name": "Python 3",
   "language": "python",
   "name": "python3"
  },
  "language_info": {
   "codemirror_mode": {
    "name": "ipython",
    "version": 3
   },
   "file_extension": ".py",
   "mimetype": "text/x-python",
   "name": "python",
   "nbconvert_exporter": "python",
   "pygments_lexer": "ipython3",
   "version": "3.7.3"
  }
 },
 "nbformat": 4,
 "nbformat_minor": 2
}
