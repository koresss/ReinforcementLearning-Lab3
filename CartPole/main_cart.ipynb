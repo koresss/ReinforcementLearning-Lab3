{
 "cells": [
  {
   "cell_type": "markdown",
   "metadata": {},
   "source": [
    "### CartPole Environment"
   ]
  },
  {
   "cell_type": "code",
   "execution_count": null,
   "metadata": {},
   "outputs": [],
   "source": [
    "from dqn_ner_cart import ner_cart\n",
    "from dqn_cer_cart import cer_cart\n",
    "from dqn_her_cart import her_cart\n",
    "from dqn_per_cart import per_cart\n",
    "import numpy as np\n",
    "import matplotlib.pyplot as plt\n",
    "from scipy.stats import sem"
   ]
  },
  {
   "cell_type": "markdown",
   "metadata": {},
   "source": [
    "#### Hyper-parameters"
   ]
  },
  {
   "cell_type": "code",
   "execution_count": null,
   "metadata": {},
   "outputs": [],
   "source": [
    "runs = 10\n",
    "num_episodes = 3000\n",
    "# Hyperparameters of the Experience Replay\n",
    "batch_size = 32\n",
    "buf_size = 50_000"
   ]
  },
  {
   "cell_type": "code",
   "execution_count": null,
   "metadata": {},
   "outputs": [],
   "source": [
    "def mean_and_error(data):\n",
    "    return np.mean(data, axis=0), sem(data, axis=0) * 1.96"
   ]
  },
  {
   "cell_type": "code",
   "execution_count": null,
   "metadata": {},
   "outputs": [],
   "source": [
    "def plot_and_save(means, errors, er_method, y_axis_title, save_name, y_lim = (0,1)):\n",
    "    '''\n",
    "        parameters:\n",
    "            means - mean array\n",
    "            errors - errors array for the confidence interval\n",
    "            er_method - ER method to add to the title\n",
    "            y_axis_title - metric type to use for plot as label name\n",
    "            save_name - name of the figure to save\n",
    "            y_lim - limits of the y (used because we have succes rate and average score)\n",
    "        return:\n",
    "            None    \n",
    "    '''\n",
    "    \n",
    "    episodes = range(0, len(means)*100, 100)\n",
    "    plt.errorbar(episodes, means, yerr=errors, fmt='o')\n",
    "    plt.plot(episodes, means)\n",
    "    plt.ylim(y_lim)\n",
    "    plt.title(er_method + ' with 95% confidence interval')\n",
    "    plt.xlabel('Episodes')\n",
    "    plt.ylabel(y_axis_title)\n",
    "    plt.savefig(save_name)\n",
    "    plt.show()"
   ]
  },
  {
   "cell_type": "markdown",
   "metadata": {},
   "source": [
    "#### Normal Experince Replay"
   ]
  },
  {
   "cell_type": "code",
   "execution_count": null,
   "metadata": {},
   "outputs": [],
   "source": [
    "# NER\n",
    "scores_ner = []\n",
    "for run in range(runs):\n",
    "    _, score_rate_ner = (\n",
    "        ner_cart(\n",
    "            n_episodes_=num_episodes\n",
    "            ,batch_size_=batch_size\n",
    "            ,buf_size_=buf_size\n",
    "            )\n",
    "        )\n",
    "    scores_ner.append(score_rate_ner)\n",
    "ner_means, ner_errors = mean_and_error(scores_ner)"
   ]
  },
  {
   "cell_type": "markdown",
   "metadata": {},
   "source": [
    "#### Combined Experince Replay"
   ]
  },
  {
   "cell_type": "code",
   "execution_count": null,
   "metadata": {},
   "outputs": [],
   "source": [
    "# CER\n",
    "scores_cer = []\n",
    "for run in range(runs):\n",
    "    _, score_rate_cer = (\n",
    "        cer_cart(\n",
    "            n_episodes_=num_episodes\n",
    "            ,batch_size_=batch_size\n",
    "            ,buf_size_=buf_size\n",
    "            )\n",
    "        )\n",
    "    scores_cer.append(score_rate_cer)\n",
    "cer_means, cer_errors = mean_and_error(scores_cer)"
   ]
  },
  {
   "cell_type": "markdown",
   "metadata": {},
   "source": [
    "#### Hindsight Experince Replay"
   ]
  },
  {
   "cell_type": "code",
   "execution_count": null,
   "metadata": {},
   "outputs": [],
   "source": [
    "# HER\n",
    "scores_her = []\n",
    "for run in range(runs):\n",
    "    _, score_rate_her = (\n",
    "        her_cart(\n",
    "            n_episodes_=num_episodes\n",
    "            ,batch_size_=batch_size\n",
    "            ,buf_size_=buf_size\n",
    "            )\n",
    "        )\n",
    "    scores_her.append(score_rate_her)\n",
    "her_means, her_errors = mean_and_error(scores_her)"
   ]
  },
  {
   "cell_type": "markdown",
   "metadata": {},
   "source": [
    "#### Plots\n",
    "# Consider changing the 'save_name'  when running different hyper parameters"
   ]
  },
  {
   "cell_type": "code",
   "execution_count": null,
   "metadata": {},
   "outputs": [],
   "source": [
    "plot_and_save(ner_means, ner_errors, 'NER', 'Total reward', 'ner_cart_buf1_batch_1.png')"
   ]
  },
  {
   "cell_type": "code",
   "execution_count": null,
   "metadata": {},
   "outputs": [],
   "source": [
    "plot_and_save(cer_means, cer_errors, 'CER', 'Total reward', 'cer_cart_buf1_batch_1.png')"
   ]
  },
  {
   "cell_type": "code",
   "execution_count": null,
   "metadata": {},
   "outputs": [],
   "source": [
    "plot_and_save(her_means, her_errors, 'HER', 'Total reward', 'her_cart_buf1_batch_1.png')"
   ]
  },
  {
   "cell_type": "code",
   "execution_count": null,
   "metadata": {},
   "outputs": [],
   "source": []
  }
 ],
 "metadata": {
  "kernelspec": {
   "display_name": "Python 3",
   "language": "python",
   "name": "python3"
  },
  "language_info": {
   "codemirror_mode": {
    "name": "ipython",
    "version": 3
   },
   "file_extension": ".py",
   "mimetype": "text/x-python",
   "name": "python",
   "nbconvert_exporter": "python",
   "pygments_lexer": "ipython3",
   "version": "3.7.3"
  }
 },
 "nbformat": 4,
 "nbformat_minor": 2
}
