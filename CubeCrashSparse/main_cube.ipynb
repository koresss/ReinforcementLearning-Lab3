{
 "cells": [
  {
   "cell_type": "markdown",
   "metadata": {},
   "source": [
    "### CubeCrash Environment"
   ]
  },
  {
   "cell_type": "code",
   "execution_count": null,
   "metadata": {},
   "outputs": [],
   "source": [
    "from dqn_ner_cube import ner_cube\n",
    "from dqn_cer_cube import cer_cube\n",
    "from dqn_her_cube import her_cube\n",
    "import numpy as np\n",
    "import matplotlib.pyplot as plt\n",
    "from scipy.stats import sem"
   ]
  },
  {
   "cell_type": "markdown",
   "metadata": {},
   "source": [
    "#### Hyper-parameters"
   ]
  },
  {
   "cell_type": "code",
   "execution_count": null,
   "metadata": {},
   "outputs": [],
   "source": [
    "runs = 10\n",
    "num_episodes = 3000\n",
    "# Hyperparameters of the Experience Replay\n",
    "batch_size = 32\n",
    "buf_size = 50_000"
   ]
  },
  {
   "cell_type": "code",
   "execution_count": null,
   "metadata": {},
   "outputs": [],
   "source": [
    "def mean_and_error(data):\n",
    "    return np.mean(data, axis=0), sem(data, axis=0) * 1.96"
   ]
  },
  {
   "cell_type": "code",
   "execution_count": null,
   "metadata": {},
   "outputs": [],
   "source": [
    "def plot_and_save(means, errors, er_method, y_axis_title, save_name, y_lim = (0,1)):\n",
    "    '''\n",
    "        parameters:\n",
    "            means - mean array\n",
    "            errors - errors array for the confidence interval\n",
    "            er_method - ER method to add to the title\n",
    "            y_axis_title - metric type to use for plot as label name\n",
    "            save_name - name of the figure to save\n",
    "            y_lim - limits of the y (used because we have succes rate and average score)\n",
    "        return:\n",
    "            None    \n",
    "    '''\n",
    "    \n",
    "    episodes = range(0, len(means)*100, 100)\n",
    "    plt.errorbar(episodes, means, yerr=errors, fmt='o')\n",
    "    plt.plot(episodes, means)\n",
    "    plt.ylim(y_lim)\n",
    "    plt.title(er_method + ' with 95% confidence interval')\n",
    "    plt.xlabel('Episodes')\n",
    "    plt.ylabel(y_axis_title)\n",
    "    plt.savefig(save_name)\n",
    "    plt.show()"
   ]
  },
  {
   "cell_type": "markdown",
   "metadata": {},
   "source": [
    "#### Normal Experince Replay"
   ]
  },
  {
   "cell_type": "code",
   "execution_count": null,
   "metadata": {},
   "outputs": [],
   "source": [
    "# NER\n",
    "succes_rates_ner = []\n",
    "for run in range(runs):\n",
    "    succes_rates_ner.append(\n",
    "        ner_cube(\n",
    "            n_episodes_=num_episodes\n",
    "            ,batch_size_=batch_size\n",
    "            ,buf_size_=buf_size\n",
    "            )\n",
    "        )\n",
    "ner_means, ner_errors = mean_and_error(succes_rates_ner)"
   ]
  },
  {
   "cell_type": "markdown",
   "metadata": {},
   "source": [
    "#### Combined Experince Replay"
   ]
  },
  {
   "cell_type": "code",
   "execution_count": null,
   "metadata": {},
   "outputs": [],
   "source": [
    "# CER\n",
    "succes_rates_cer = []\n",
    "for run in range(runs):\n",
    "    succes_rates_cer.append(\n",
    "        cer_cube(\n",
    "            n_episodes_=num_episodes\n",
    "            ,batch_size_=batch_size\n",
    "            ,buf_size_=buf_size\n",
    "            )\n",
    "        )\n",
    "cer_means, cer_errors = mean_and_error(succes_rates_cer)"
   ]
  },
  {
   "cell_type": "markdown",
   "metadata": {},
   "source": [
    "#### Hindsight Experince Replay"
   ]
  },
  {
   "cell_type": "code",
   "execution_count": null,
   "metadata": {},
   "outputs": [],
   "source": [
    "# HER\n",
    "succes_rates_her = []\n",
    "for run in range(runs):\n",
    "    succes_rates_her.append(\n",
    "        her_cube(\n",
    "            n_episodes_=num_episodes\n",
    "            ,batch_size_=batch_size\n",
    "            ,buf_size_=buf_size\n",
    "            )\n",
    "        )\n",
    "her_means, her_errors = mean_and_error(succes_rates_her)"
   ]
  },
  {
   "cell_type": "markdown",
   "metadata": {},
   "source": [
    "#### Plots\n",
    "# Consider changing the 'save_name'  when running different hyper parameters"
   ]
  },
  {
   "cell_type": "code",
   "execution_count": null,
   "metadata": {},
   "outputs": [],
   "source": [
    "plot_and_save(ner_means, ner_errors, 'NER', 'Success rate', 'ner_bitflip_buf1_batch_1.png')"
   ]
  },
  {
   "cell_type": "code",
   "execution_count": null,
   "metadata": {},
   "outputs": [],
   "source": [
    "plot_and_save(cer_means, cer_errors, 'CER', 'Success rate', 'cer_bitflip_buf1_batch_1.png')"
   ]
  },
  {
   "cell_type": "code",
   "execution_count": null,
   "metadata": {},
   "outputs": [],
   "source": [
    "plot_and_save(her_means, her_errors, 'HER', 'Success rate', 'her_bitflip_buf1_batch_1.png')"
   ]
  },
  {
   "cell_type": "code",
   "execution_count": null,
   "metadata": {},
   "outputs": [],
   "source": []
  }
 ],
 "metadata": {
  "kernelspec": {
   "display_name": "Python 3",
   "language": "python",
   "name": "python3"
  },
  "language_info": {
   "codemirror_mode": {
    "name": "ipython",
    "version": 3
   },
   "file_extension": ".py",
   "mimetype": "text/x-python",
   "name": "python",
   "nbconvert_exporter": "python",
   "pygments_lexer": "ipython3",
   "version": "3.7.3"
  }
 },
 "nbformat": 4,
 "nbformat_minor": 2
}
