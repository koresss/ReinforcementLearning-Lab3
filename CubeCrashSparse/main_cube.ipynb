{
 "cells": [
  {
   "cell_type": "markdown",
   "metadata": {},
   "source": [
    "### CubeCrash Environment"
   ]
  },
  {
   "cell_type": "code",
   "execution_count": null,
   "metadata": {},
   "outputs": [],
   "source": [
    "from dqn_ner_cube import ner_cube\n",
    "from dqn_cer_cube import cer_cube\n",
    "from dqn_her_cube import her_cube\n",
    "import numpy as np"
   ]
  },
  {
   "cell_type": "markdown",
   "metadata": {},
   "source": [
    "#### Hyper-parameters"
   ]
  },
  {
   "cell_type": "code",
   "execution_count": null,
   "metadata": {},
   "outputs": [],
   "source": [
    "runs = 5\n",
    "num_episodes = 3000\n",
    "# Hyperparameters of the Experience Replay\n",
    "batch_size = 32\n",
    "buf_size = 50_000"
   ]
  },
  {
   "cell_type": "markdown",
   "metadata": {},
   "source": [
    "#### Normal Experince Replay"
   ]
  },
  {
   "cell_type": "code",
   "execution_count": null,
   "metadata": {},
   "outputs": [],
   "source": [
    "# NER\n",
    "succes_rates_ner = []\n",
    "for run in range(runs):\n",
    "    succes_rates_ner.append(\n",
    "        ner_cube(\n",
    "            n_episodes_=num_episodes\n",
    "            ,batch_size_=batch_size\n",
    "            ,buf_size_=buf_size\n",
    "            )\n",
    "        )"
   ]
  },
  {
   "cell_type": "markdown",
   "metadata": {},
   "source": [
    "#### Combined Experince Replay"
   ]
  },
  {
   "cell_type": "code",
   "execution_count": null,
   "metadata": {},
   "outputs": [],
   "source": [
    "# CER\n",
    "succes_rates_cer = []\n",
    "for run in range(runs):\n",
    "    succes_rates_cer.append(\n",
    "        cer_cube(\n",
    "            n_episodes_=num_episodes\n",
    "            ,batch_size_=batch_size\n",
    "            ,buf_size_=buf_size\n",
    "            )\n",
    "        )"
   ]
  },
  {
   "cell_type": "markdown",
   "metadata": {},
   "source": [
    "#### Hindsight Experince Replay"
   ]
  },
  {
   "cell_type": "code",
   "execution_count": null,
   "metadata": {},
   "outputs": [],
   "source": [
    "# HER\n",
    "succes_rates_her = []\n",
    "for run in range(runs):\n",
    "    succes_rates_her.append(\n",
    "        her_cube(\n",
    "            n_episodes_=num_episodes\n",
    "            ,batch_size_=batch_size\n",
    "            ,buf_size_=buf_size\n",
    "            )\n",
    "        )"
   ]
  }
 ],
 "metadata": {
  "kernelspec": {
   "display_name": "Python 3",
   "language": "python",
   "name": "python3"
  },
  "language_info": {
   "codemirror_mode": {
    "name": "ipython",
    "version": 3
   },
   "file_extension": ".py",
   "mimetype": "text/x-python",
   "name": "python",
   "nbconvert_exporter": "python",
   "pygments_lexer": "ipython3",
   "version": "3.7.3"
  }
 },
 "nbformat": 4,
 "nbformat_minor": 2
}
