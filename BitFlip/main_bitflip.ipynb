{
 "cells": [
  {
   "cell_type": "markdown",
   "metadata": {},
   "source": [
    "### BitFlip Environment"
   ]
  },
  {
   "cell_type": "code",
   "execution_count": null,
   "metadata": {},
   "outputs": [],
   "source": [
    "from dqn_cer_bitflip import cer_bitflip\n",
    "from dqn_her_bitflip import her_bitflip\n",
    "from dqn_ner_bitflip import ner_bitflip\n",
    "import numpy as np"
   ]
  },
  {
   "cell_type": "markdown",
   "metadata": {},
   "source": [
    "#### Hyper-parameters"
   ]
  },
  {
   "cell_type": "code",
   "execution_count": null,
   "metadata": {},
   "outputs": [],
   "source": [
    "runs = 5\n",
    "num_episodes = 3000\n",
    "# Hyperparameters of the Experience Replay\n",
    "batch_size = 128\n",
    "buf_size = 50_000"
   ]
  },
  {
   "cell_type": "markdown",
   "metadata": {},
   "source": [
    "#### Normal Experince Replay"
   ]
  },
  {
   "cell_type": "code",
   "execution_count": null,
   "metadata": {},
   "outputs": [],
   "source": [
    "# NER\n",
    "succes_rates_ner = []\n",
    "for run in range(runs):\n",
    "    succes_rates_ner.append(\n",
    "        ner_bitflip(\n",
    "            n_episodes_=num_episodes\n",
    "            ,batch_size_=batch_size\n",
    "            ,buf_size_=buf_size\n",
    "            )\n",
    "        )"
   ]
  },
  {
   "cell_type": "markdown",
   "metadata": {},
   "source": [
    "#### Combined Experince Replay"
   ]
  },
  {
   "cell_type": "code",
   "execution_count": null,
   "metadata": {},
   "outputs": [],
   "source": [
    "# CER\n",
    "succes_rates_cer = []\n",
    "for run in range(runs):\n",
    "    succes_rates_cer.append(\n",
    "        cer_bitflip(\n",
    "            n_episodes_=num_episodes\n",
    "            ,batch_size_=batch_size\n",
    "            ,buf_size_=buf_size\n",
    "            )\n",
    "        )"
   ]
  },
  {
   "cell_type": "markdown",
   "metadata": {},
   "source": [
    "#### Hindsight Experince Replay"
   ]
  },
  {
   "cell_type": "code",
   "execution_count": null,
   "metadata": {},
   "outputs": [],
   "source": [
    "# NER\n",
    "succes_rates_her = []\n",
    "for run in range(runs):\n",
    "    succes_rates_her.append(\n",
    "        her_bitflip(\n",
    "            n_episodes_=num_episodes\n",
    "            ,batch_size_=batch_size\n",
    "            ,buf_size_=buf_size\n",
    "            )\n",
    "        )"
   ]
  }
 ],
 "metadata": {
  "kernelspec": {
   "display_name": "Python 3",
   "language": "python",
   "name": "python3"
  },
  "language_info": {
   "codemirror_mode": {
    "name": "ipython",
    "version": 3
   },
   "file_extension": ".py",
   "mimetype": "text/x-python",
   "name": "python",
   "nbconvert_exporter": "python",
   "pygments_lexer": "ipython3",
   "version": "3.7.3"
  }
 },
 "nbformat": 4,
 "nbformat_minor": 2
}
